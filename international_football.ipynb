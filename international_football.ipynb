{
 "cells": [
  {
   "cell_type": "markdown",
   "id": "298b00ec",
   "metadata": {},
   "source": [
    "# Soccer Results 1963 - 2022  \n",
    "Uko Etukho  \n",
    "December 2022  \n"
   ]
  },
  {
   "cell_type": "markdown",
   "id": "25742869",
   "metadata": {},
   "source": [
    "## Introduction\n",
    "Soccer is one of the sports that enjoys a lot of followership worldwide, with the World Cup being the most popular soccer event.This project looks at the outcomes of soccer events worldwide, with respect to selected tournaments and events.  \n",
    "  \n",
    "  The dataset used for this project is the 'International Football from 1872 to 2022' dataset on Kaggle, owned by Aman Chauhan and licenced under CC0: Public Domain.  \n",
    "  \n",
    "  At the end of this project I want to see,  \n",
    "  * How many matches has Nigeria won at home?  \n",
    "  * How many matches has Nigeria won away from home? \n",
    "  * How many matches has Nigeria won in African Cup of Nations, World Cup, Friendlies?  \n",
    "    \n",
    "Python and Tableau will be the tools used for this project.\n"
   ]
  },
  {
   "cell_type": "code",
   "execution_count": 26,
   "id": "2cfcdedf",
   "metadata": {},
   "outputs": [],
   "source": [
    "import pandas as pd\n",
    "import numpy as np"
   ]
  },
  {
   "cell_type": "code",
   "execution_count": 27,
   "id": "a9b3bb96",
   "metadata": {},
   "outputs": [],
   "source": [
    "df = pd.read_csv('results.csv')"
   ]
  },
  {
   "cell_type": "code",
   "execution_count": 28,
   "id": "e3736f37",
   "metadata": {},
   "outputs": [
    {
     "name": "stdout",
     "output_type": "stream",
     "text": [
      "(44060, 9)\n"
     ]
    },
    {
     "data": {
      "text/html": [
       "<div>\n",
       "<style scoped>\n",
       "    .dataframe tbody tr th:only-of-type {\n",
       "        vertical-align: middle;\n",
       "    }\n",
       "\n",
       "    .dataframe tbody tr th {\n",
       "        vertical-align: top;\n",
       "    }\n",
       "\n",
       "    .dataframe thead th {\n",
       "        text-align: right;\n",
       "    }\n",
       "</style>\n",
       "<table border=\"1\" class=\"dataframe\">\n",
       "  <thead>\n",
       "    <tr style=\"text-align: right;\">\n",
       "      <th></th>\n",
       "      <th>date</th>\n",
       "      <th>home_team</th>\n",
       "      <th>away_team</th>\n",
       "      <th>home_score</th>\n",
       "      <th>away_score</th>\n",
       "      <th>tournament</th>\n",
       "      <th>city</th>\n",
       "      <th>country</th>\n",
       "      <th>neutral</th>\n",
       "    </tr>\n",
       "  </thead>\n",
       "  <tbody>\n",
       "    <tr>\n",
       "      <th>0</th>\n",
       "      <td>1872-11-30</td>\n",
       "      <td>Scotland</td>\n",
       "      <td>England</td>\n",
       "      <td>0.0</td>\n",
       "      <td>0.0</td>\n",
       "      <td>Friendly</td>\n",
       "      <td>Glasgow</td>\n",
       "      <td>Scotland</td>\n",
       "      <td>False</td>\n",
       "    </tr>\n",
       "    <tr>\n",
       "      <th>1</th>\n",
       "      <td>1873-03-08</td>\n",
       "      <td>England</td>\n",
       "      <td>Scotland</td>\n",
       "      <td>4.0</td>\n",
       "      <td>2.0</td>\n",
       "      <td>Friendly</td>\n",
       "      <td>London</td>\n",
       "      <td>England</td>\n",
       "      <td>False</td>\n",
       "    </tr>\n",
       "    <tr>\n",
       "      <th>2</th>\n",
       "      <td>1874-03-07</td>\n",
       "      <td>Scotland</td>\n",
       "      <td>England</td>\n",
       "      <td>2.0</td>\n",
       "      <td>1.0</td>\n",
       "      <td>Friendly</td>\n",
       "      <td>Glasgow</td>\n",
       "      <td>Scotland</td>\n",
       "      <td>False</td>\n",
       "    </tr>\n",
       "    <tr>\n",
       "      <th>3</th>\n",
       "      <td>1875-03-06</td>\n",
       "      <td>England</td>\n",
       "      <td>Scotland</td>\n",
       "      <td>2.0</td>\n",
       "      <td>2.0</td>\n",
       "      <td>Friendly</td>\n",
       "      <td>London</td>\n",
       "      <td>England</td>\n",
       "      <td>False</td>\n",
       "    </tr>\n",
       "    <tr>\n",
       "      <th>4</th>\n",
       "      <td>1876-03-04</td>\n",
       "      <td>Scotland</td>\n",
       "      <td>England</td>\n",
       "      <td>3.0</td>\n",
       "      <td>0.0</td>\n",
       "      <td>Friendly</td>\n",
       "      <td>Glasgow</td>\n",
       "      <td>Scotland</td>\n",
       "      <td>False</td>\n",
       "    </tr>\n",
       "  </tbody>\n",
       "</table>\n",
       "</div>"
      ],
      "text/plain": [
       "         date home_team away_team  home_score  away_score tournament     city  \\\n",
       "0  1872-11-30  Scotland   England         0.0         0.0   Friendly  Glasgow   \n",
       "1  1873-03-08   England  Scotland         4.0         2.0   Friendly   London   \n",
       "2  1874-03-07  Scotland   England         2.0         1.0   Friendly  Glasgow   \n",
       "3  1875-03-06   England  Scotland         2.0         2.0   Friendly   London   \n",
       "4  1876-03-04  Scotland   England         3.0         0.0   Friendly  Glasgow   \n",
       "\n",
       "    country  neutral  \n",
       "0  Scotland    False  \n",
       "1   England    False  \n",
       "2  Scotland    False  \n",
       "3   England    False  \n",
       "4  Scotland    False  "
      ]
     },
     "execution_count": 28,
     "metadata": {},
     "output_type": "execute_result"
    }
   ],
   "source": [
    "print(df.shape)\n",
    "df.head()"
   ]
  },
  {
   "cell_type": "code",
   "execution_count": 29,
   "id": "1023c727",
   "metadata": {},
   "outputs": [
    {
     "data": {
      "text/html": [
       "<div>\n",
       "<style scoped>\n",
       "    .dataframe tbody tr th:only-of-type {\n",
       "        vertical-align: middle;\n",
       "    }\n",
       "\n",
       "    .dataframe tbody tr th {\n",
       "        vertical-align: top;\n",
       "    }\n",
       "\n",
       "    .dataframe thead th {\n",
       "        text-align: right;\n",
       "    }\n",
       "</style>\n",
       "<table border=\"1\" class=\"dataframe\">\n",
       "  <thead>\n",
       "    <tr style=\"text-align: right;\">\n",
       "      <th></th>\n",
       "      <th>date</th>\n",
       "      <th>home_team</th>\n",
       "      <th>away_team</th>\n",
       "      <th>home_score</th>\n",
       "      <th>away_score</th>\n",
       "      <th>tournament</th>\n",
       "      <th>city</th>\n",
       "      <th>country</th>\n",
       "      <th>neutral</th>\n",
       "    </tr>\n",
       "  </thead>\n",
       "  <tbody>\n",
       "    <tr>\n",
       "      <th>44055</th>\n",
       "      <td>2022-09-27</td>\n",
       "      <td>Norway</td>\n",
       "      <td>Serbia</td>\n",
       "      <td>0.0</td>\n",
       "      <td>2.0</td>\n",
       "      <td>UEFA Nations League</td>\n",
       "      <td>Oslo</td>\n",
       "      <td>Norway</td>\n",
       "      <td>False</td>\n",
       "    </tr>\n",
       "    <tr>\n",
       "      <th>44056</th>\n",
       "      <td>2022-09-27</td>\n",
       "      <td>Sweden</td>\n",
       "      <td>Slovenia</td>\n",
       "      <td>1.0</td>\n",
       "      <td>1.0</td>\n",
       "      <td>UEFA Nations League</td>\n",
       "      <td>Stockholm</td>\n",
       "      <td>Sweden</td>\n",
       "      <td>False</td>\n",
       "    </tr>\n",
       "    <tr>\n",
       "      <th>44057</th>\n",
       "      <td>2022-09-27</td>\n",
       "      <td>Kosovo</td>\n",
       "      <td>Cyprus</td>\n",
       "      <td>5.0</td>\n",
       "      <td>1.0</td>\n",
       "      <td>UEFA Nations League</td>\n",
       "      <td>Pristina</td>\n",
       "      <td>Kosovo</td>\n",
       "      <td>False</td>\n",
       "    </tr>\n",
       "    <tr>\n",
       "      <th>44058</th>\n",
       "      <td>2022-09-27</td>\n",
       "      <td>Greece</td>\n",
       "      <td>Northern Ireland</td>\n",
       "      <td>3.0</td>\n",
       "      <td>1.0</td>\n",
       "      <td>UEFA Nations League</td>\n",
       "      <td>Athens</td>\n",
       "      <td>Greece</td>\n",
       "      <td>False</td>\n",
       "    </tr>\n",
       "    <tr>\n",
       "      <th>44059</th>\n",
       "      <td>2022-09-30</td>\n",
       "      <td>Fiji</td>\n",
       "      <td>Solomon Islands</td>\n",
       "      <td>NaN</td>\n",
       "      <td>NaN</td>\n",
       "      <td>MSG Prime Minister's Cup</td>\n",
       "      <td>Luganville</td>\n",
       "      <td>Vanuatu</td>\n",
       "      <td>True</td>\n",
       "    </tr>\n",
       "  </tbody>\n",
       "</table>\n",
       "</div>"
      ],
      "text/plain": [
       "             date home_team         away_team  home_score  away_score  \\\n",
       "44055  2022-09-27    Norway            Serbia         0.0         2.0   \n",
       "44056  2022-09-27    Sweden          Slovenia         1.0         1.0   \n",
       "44057  2022-09-27    Kosovo            Cyprus         5.0         1.0   \n",
       "44058  2022-09-27    Greece  Northern Ireland         3.0         1.0   \n",
       "44059  2022-09-30      Fiji   Solomon Islands         NaN         NaN   \n",
       "\n",
       "                     tournament        city  country  neutral  \n",
       "44055       UEFA Nations League        Oslo   Norway    False  \n",
       "44056       UEFA Nations League   Stockholm   Sweden    False  \n",
       "44057       UEFA Nations League    Pristina   Kosovo    False  \n",
       "44058       UEFA Nations League      Athens   Greece    False  \n",
       "44059  MSG Prime Minister's Cup  Luganville  Vanuatu     True  "
      ]
     },
     "execution_count": 29,
     "metadata": {},
     "output_type": "execute_result"
    }
   ],
   "source": [
    "df.tail()"
   ]
  },
  {
   "cell_type": "markdown",
   "id": "ec835919",
   "metadata": {},
   "source": [
    "## Data Wrangling"
   ]
  },
  {
   "cell_type": "markdown",
   "id": "906380d0",
   "metadata": {},
   "source": [
    "The datset has been checked for duplicates and missing values, and one row of data has been removed for missing values.  \n",
    "  The date column datatype has been changed from object type to datetime datatype.  \n",
    "  Dataset has also been checked for possible data inconsistencies.  \n"
   ]
  },
  {
   "cell_type": "code",
   "execution_count": 30,
   "id": "837cf69e",
   "metadata": {},
   "outputs": [
    {
     "data": {
      "text/plain": [
       "0"
      ]
     },
     "execution_count": 30,
     "metadata": {},
     "output_type": "execute_result"
    }
   ],
   "source": [
    "# check for duplicates\n",
    "df.duplicated().sum()"
   ]
  },
  {
   "cell_type": "code",
   "execution_count": 31,
   "id": "cb8fb27a",
   "metadata": {
    "scrolled": true
   },
   "outputs": [
    {
     "name": "stdout",
     "output_type": "stream",
     "text": [
      "<class 'pandas.core.frame.DataFrame'>\n",
      "RangeIndex: 44060 entries, 0 to 44059\n",
      "Data columns (total 9 columns):\n",
      " #   Column      Non-Null Count  Dtype  \n",
      "---  ------      --------------  -----  \n",
      " 0   date        44060 non-null  object \n",
      " 1   home_team   44060 non-null  object \n",
      " 2   away_team   44060 non-null  object \n",
      " 3   home_score  44059 non-null  float64\n",
      " 4   away_score  44059 non-null  float64\n",
      " 5   tournament  44060 non-null  object \n",
      " 6   city        44060 non-null  object \n",
      " 7   country     44060 non-null  object \n",
      " 8   neutral     44060 non-null  bool   \n",
      "dtypes: bool(1), float64(2), object(6)\n",
      "memory usage: 2.7+ MB\n"
     ]
    }
   ],
   "source": [
    "df.info()"
   ]
  },
  {
   "cell_type": "code",
   "execution_count": 32,
   "id": "93de6275",
   "metadata": {},
   "outputs": [
    {
     "data": {
      "text/plain": [
       "1"
      ]
     },
     "execution_count": 32,
     "metadata": {},
     "output_type": "execute_result"
    }
   ],
   "source": [
    "# check for null objects\n",
    "df['home_score'].isna().sum()"
   ]
  },
  {
   "cell_type": "code",
   "execution_count": 33,
   "id": "d107f0a8",
   "metadata": {},
   "outputs": [],
   "source": [
    "# remove row with null values\n",
    "df = df.dropna(subset=['home_score', 'away_score'])"
   ]
  },
  {
   "cell_type": "code",
   "execution_count": 34,
   "id": "5f4ae02c",
   "metadata": {},
   "outputs": [],
   "source": [
    "# convert column 'date' to date format\n",
    "df['date'] = df['date'].astype('datetime64')"
   ]
  },
  {
   "cell_type": "code",
   "execution_count": 35,
   "id": "6940828e",
   "metadata": {},
   "outputs": [
    {
     "data": {
      "text/plain": [
       "date          datetime64[ns]\n",
       "home_team             object\n",
       "away_team             object\n",
       "home_score           float64\n",
       "away_score           float64\n",
       "tournament            object\n",
       "city                  object\n",
       "country               object\n",
       "neutral                 bool\n",
       "dtype: object"
      ]
     },
     "execution_count": 35,
     "metadata": {},
     "output_type": "execute_result"
    }
   ],
   "source": [
    "df.dtypes"
   ]
  },
  {
   "cell_type": "code",
   "execution_count": 36,
   "id": "018b515e",
   "metadata": {
    "scrolled": true
   },
   "outputs": [
    {
     "data": {
      "text/plain": [
       "array(['Friendly', 'British Championship', 'Copa Lipton', 'Copa Newton',\n",
       "       'Copa Premio Honor Argentino', 'Copa Premio Honor Uruguayo',\n",
       "       'Copa Roca', 'Copa América', 'Copa Chevallier Boutell',\n",
       "       'Nordic Championship', 'International Cup', 'Baltic Cup',\n",
       "       'Balkan Cup', 'FIFA World Cup', 'Copa Rio Branco',\n",
       "       'FIFA World Cup qualification', 'Bolivarian Games',\n",
       "       'CCCF Championship', 'NAFU Championship', 'Copa Oswaldo Cruz',\n",
       "       'Pan American Championship', 'Copa del Pacífico',\n",
       "       \"Copa Bernardo O'Higgins\", 'AFC Asian Cup qualification',\n",
       "       'Atlantic Cup', 'AFC Asian Cup', 'African Cup of Nations',\n",
       "       'Copa Paz del Chaco', 'Merdeka Tournament',\n",
       "       'UEFA Euro qualification', 'UEFA Euro',\n",
       "       'Windward Islands Tournament',\n",
       "       'African Cup of Nations qualification', 'Vietnam Independence Cup',\n",
       "       'Copa Carlos Dittborn', 'Phillip Seaga Cup',\n",
       "       'CONCACAF Championship', 'Copa Juan Pinto Durán', 'Arab Cup',\n",
       "       'South Pacific Games', 'CONCACAF Championship qualification',\n",
       "       'Copa Artigas', 'GaNEFo', \"King's Cup\", 'Gulf Cup',\n",
       "       'Indonesia Tournament', 'Korea Cup', 'Palestine Cup',\n",
       "       'Brazil Independence Cup', 'Copa Ramón Castilla',\n",
       "       'Oceania Nations Cup', 'CECAFA Cup', 'Kuneitra Cup',\n",
       "       'Copa Félix Bogado', 'Real Madrid 75th Anniversary Cup',\n",
       "       'Beijing International Friendship Tournament', 'Kirin Cup',\n",
       "       'CFU Caribbean Cup qualification', 'CFU Caribbean Cup',\n",
       "       'Amílcar Cabral Cup', 'FIFA 75th Anniversary Cup',\n",
       "       'Guangzhou International Friendship Tournament', 'Mundialito',\n",
       "       'West African Cup', 'Nehru Cup', 'Merlion Cup', 'Great Wall Cup',\n",
       "       'UDEAC Cup', 'Rous Cup', 'CONMEBOL–UEFA Cup of Champions',\n",
       "       'Lunar New Year Cup', 'Arab Cup qualification',\n",
       "       'Tournoi de France', 'Malta International Tournament',\n",
       "       'Matthews Cup', 'Tournament Burkina Faso', 'Island Games',\n",
       "       'Dynasty Cup', 'Dakar Tournament', 'UNCAF Cup', 'Gold Cup',\n",
       "       'USA Cup', 'Jordan International Tournament', 'Confederations Cup',\n",
       "       'United Arab Emirates Friendship Tournament',\n",
       "       'Oceania Nations Cup qualification', 'Simba Tournament',\n",
       "       'SAFF Cup', 'AFF Championship', 'King Hassan II Tournament',\n",
       "       'Cyprus International Tournament', 'Dunhill Cup',\n",
       "       'COSAFA Cup qualification', 'COSAFA Cup', 'Gold Cup qualification',\n",
       "       'SKN Football Festival', 'UNIFFAC Cup', 'WAFF Championship',\n",
       "       'Millennium Cup', 'Cup of Ancient Civilizations',\n",
       "       \"Prime Minister's Cup\", 'EAFF Championship', 'TIFOCO Tournament',\n",
       "       'Afro-Asian Games', 'AFC Challenge Cup', 'FIFI Wild Cup',\n",
       "       'ELF Cup', 'Viva World Cup', 'AFC Challenge Cup qualification',\n",
       "       'African Nations Championship', 'VFF Cup', 'Dragon Cup',\n",
       "       'ABCS Tournament', 'Nile Basin Tournament', 'Nations Cup',\n",
       "       'Copa Confraternidad', 'Pacific Games',\n",
       "       'Superclásico de las Américas', 'Kirin Challenge Cup', 'OSN Cup',\n",
       "       'CONIFA World Football Cup', 'CONIFA European Football Cup',\n",
       "       'Copa América qualification', 'World Unity Cup',\n",
       "       'Pacific Mini Games', 'Intercontinental Cup',\n",
       "       'AFF Championship qualification', 'UEFA Nations League',\n",
       "       'CONCACAF Nations League qualification',\n",
       "       'African Nations Championship qualification',\n",
       "       'Atlantic Heritage Cup', 'Inter Games Football Tournament',\n",
       "       'CONCACAF Nations League', 'Three Nations Cup',\n",
       "       'Mahinda Rajapaksa Cup', 'Navruz Cup',\n",
       "       'CONIFA Africa Football Cup', 'CONIFA South America Football Cup',\n",
       "       \"MSG Prime Minister's Cup\"], dtype=object)"
      ]
     },
     "execution_count": 36,
     "metadata": {},
     "output_type": "execute_result"
    }
   ],
   "source": [
    "df['tournament'].unique()\n"
   ]
  },
  {
   "cell_type": "code",
   "execution_count": 37,
   "id": "8ae0b117",
   "metadata": {},
   "outputs": [
    {
     "data": {
      "text/plain": [
       "Friendly                                17425\n",
       "FIFA World Cup qualification             7774\n",
       "UEFA Euro qualification                  2593\n",
       "African Cup of Nations qualification     1932\n",
       "FIFA World Cup                            900\n",
       "                                        ...  \n",
       "Copa América qualification                  2\n",
       "FIFA 75th Anniversary Cup                   1\n",
       "Real Madrid 75th Anniversary Cup            1\n",
       "TIFOCO Tournament                           1\n",
       "Copa Confraternidad                         1\n",
       "Name: tournament, Length: 139, dtype: int64"
      ]
     },
     "execution_count": 37,
     "metadata": {},
     "output_type": "execute_result"
    }
   ],
   "source": [
    "df['tournament'].value_counts()"
   ]
  },
  {
   "cell_type": "code",
   "execution_count": 38,
   "id": "8224a8f8",
   "metadata": {},
   "outputs": [
    {
     "data": {
      "text/plain": [
       "array([ 0.,  4.,  2.,  3.,  1.,  7.,  9.,  5.,  6.,  8., 11., 13., 12.,\n",
       "       10., 15., 14., 21., 30., 24., 18., 16., 19., 20., 17., 22., 31.])"
      ]
     },
     "execution_count": 38,
     "metadata": {},
     "output_type": "execute_result"
    }
   ],
   "source": [
    "# check home_score values\n",
    "df['home_score'].unique()"
   ]
  },
  {
   "cell_type": "code",
   "execution_count": 39,
   "id": "b60d73c6",
   "metadata": {},
   "outputs": [
    {
     "data": {
      "text/plain": [
       "array([ 0.,  2.,  1.,  3.,  4.,  6.,  5., 13.,  8.,  7., 10.,  9., 11.,\n",
       "       12., 15., 18., 16., 14., 19., 20., 17., 21.])"
      ]
     },
     "execution_count": 39,
     "metadata": {},
     "output_type": "execute_result"
    }
   ],
   "source": [
    "# check away_score values\n",
    "df['away_score'].unique()"
   ]
  },
  {
   "cell_type": "markdown",
   "id": "151a732b",
   "metadata": {},
   "source": [
    "## Data Transformation  \n",
    "  \n",
    "  Transformations have been carried out on the dataset including;  \n",
    "  * Creating new numerical columns,\n",
    "  * Converting 'neutral' column boolean values to strings,  \n",
    "  * Filtering the dataset for selected tournaments and events.\n",
    "      \n",
    "    "
   ]
  },
  {
   "cell_type": "code",
   "execution_count": 40,
   "id": "7f1af197",
   "metadata": {},
   "outputs": [],
   "source": [
    "df['home_win'] = df['home_score']>df['away_score']\n",
    "df['away_win'] = df['home_score']<df['away_score']\n",
    "df['home_loss'] = df['home_score']<df['away_score']\n",
    "df['away_loss'] = df['home_score']>df['away_score']\n",
    "df['draw'] = df['home_score']==df['away_score']\n",
    "\n",
    "df[['home_win','away_win','home_loss','away_loss','draw']] = df[['home_win','away_win','home_loss','away_loss','draw']].astype(int)"
   ]
  },
  {
   "cell_type": "code",
   "execution_count": 41,
   "id": "22c7ddfe",
   "metadata": {
    "scrolled": true
   },
   "outputs": [
    {
     "data": {
      "text/html": [
       "<div>\n",
       "<style scoped>\n",
       "    .dataframe tbody tr th:only-of-type {\n",
       "        vertical-align: middle;\n",
       "    }\n",
       "\n",
       "    .dataframe tbody tr th {\n",
       "        vertical-align: top;\n",
       "    }\n",
       "\n",
       "    .dataframe thead th {\n",
       "        text-align: right;\n",
       "    }\n",
       "</style>\n",
       "<table border=\"1\" class=\"dataframe\">\n",
       "  <thead>\n",
       "    <tr style=\"text-align: right;\">\n",
       "      <th></th>\n",
       "      <th>date</th>\n",
       "      <th>home_team</th>\n",
       "      <th>away_team</th>\n",
       "      <th>home_score</th>\n",
       "      <th>away_score</th>\n",
       "      <th>tournament</th>\n",
       "      <th>city</th>\n",
       "      <th>country</th>\n",
       "      <th>neutral</th>\n",
       "      <th>home_win</th>\n",
       "      <th>away_win</th>\n",
       "      <th>home_loss</th>\n",
       "      <th>away_loss</th>\n",
       "      <th>draw</th>\n",
       "    </tr>\n",
       "  </thead>\n",
       "  <tbody>\n",
       "    <tr>\n",
       "      <th>0</th>\n",
       "      <td>1872-11-30</td>\n",
       "      <td>Scotland</td>\n",
       "      <td>England</td>\n",
       "      <td>0.0</td>\n",
       "      <td>0.0</td>\n",
       "      <td>Friendly</td>\n",
       "      <td>Glasgow</td>\n",
       "      <td>Scotland</td>\n",
       "      <td>Not Neutral Ground</td>\n",
       "      <td>0</td>\n",
       "      <td>0</td>\n",
       "      <td>0</td>\n",
       "      <td>0</td>\n",
       "      <td>1</td>\n",
       "    </tr>\n",
       "    <tr>\n",
       "      <th>1</th>\n",
       "      <td>1873-03-08</td>\n",
       "      <td>England</td>\n",
       "      <td>Scotland</td>\n",
       "      <td>4.0</td>\n",
       "      <td>2.0</td>\n",
       "      <td>Friendly</td>\n",
       "      <td>London</td>\n",
       "      <td>England</td>\n",
       "      <td>Not Neutral Ground</td>\n",
       "      <td>1</td>\n",
       "      <td>0</td>\n",
       "      <td>0</td>\n",
       "      <td>1</td>\n",
       "      <td>0</td>\n",
       "    </tr>\n",
       "    <tr>\n",
       "      <th>2</th>\n",
       "      <td>1874-03-07</td>\n",
       "      <td>Scotland</td>\n",
       "      <td>England</td>\n",
       "      <td>2.0</td>\n",
       "      <td>1.0</td>\n",
       "      <td>Friendly</td>\n",
       "      <td>Glasgow</td>\n",
       "      <td>Scotland</td>\n",
       "      <td>Not Neutral Ground</td>\n",
       "      <td>1</td>\n",
       "      <td>0</td>\n",
       "      <td>0</td>\n",
       "      <td>1</td>\n",
       "      <td>0</td>\n",
       "    </tr>\n",
       "    <tr>\n",
       "      <th>3</th>\n",
       "      <td>1875-03-06</td>\n",
       "      <td>England</td>\n",
       "      <td>Scotland</td>\n",
       "      <td>2.0</td>\n",
       "      <td>2.0</td>\n",
       "      <td>Friendly</td>\n",
       "      <td>London</td>\n",
       "      <td>England</td>\n",
       "      <td>Not Neutral Ground</td>\n",
       "      <td>0</td>\n",
       "      <td>0</td>\n",
       "      <td>0</td>\n",
       "      <td>0</td>\n",
       "      <td>1</td>\n",
       "    </tr>\n",
       "    <tr>\n",
       "      <th>4</th>\n",
       "      <td>1876-03-04</td>\n",
       "      <td>Scotland</td>\n",
       "      <td>England</td>\n",
       "      <td>3.0</td>\n",
       "      <td>0.0</td>\n",
       "      <td>Friendly</td>\n",
       "      <td>Glasgow</td>\n",
       "      <td>Scotland</td>\n",
       "      <td>Not Neutral Ground</td>\n",
       "      <td>1</td>\n",
       "      <td>0</td>\n",
       "      <td>0</td>\n",
       "      <td>1</td>\n",
       "      <td>0</td>\n",
       "    </tr>\n",
       "  </tbody>\n",
       "</table>\n",
       "</div>"
      ],
      "text/plain": [
       "        date home_team away_team  home_score  away_score tournament     city  \\\n",
       "0 1872-11-30  Scotland   England         0.0         0.0   Friendly  Glasgow   \n",
       "1 1873-03-08   England  Scotland         4.0         2.0   Friendly   London   \n",
       "2 1874-03-07  Scotland   England         2.0         1.0   Friendly  Glasgow   \n",
       "3 1875-03-06   England  Scotland         2.0         2.0   Friendly   London   \n",
       "4 1876-03-04  Scotland   England         3.0         0.0   Friendly  Glasgow   \n",
       "\n",
       "    country             neutral  home_win  away_win  home_loss  away_loss  \\\n",
       "0  Scotland  Not Neutral Ground         0         0          0          0   \n",
       "1   England  Not Neutral Ground         1         0          0          1   \n",
       "2  Scotland  Not Neutral Ground         1         0          0          1   \n",
       "3   England  Not Neutral Ground         0         0          0          0   \n",
       "4  Scotland  Not Neutral Ground         1         0          0          1   \n",
       "\n",
       "   draw  \n",
       "0     1  \n",
       "1     0  \n",
       "2     0  \n",
       "3     1  \n",
       "4     0  "
      ]
     },
     "execution_count": 41,
     "metadata": {},
     "output_type": "execute_result"
    }
   ],
   "source": [
    "# change 'neutral' column to string\n",
    "df['neutral'] = df['neutral'].map({True:'Neutral Ground',False:'Not Neutral Ground'})\n",
    "df.head()"
   ]
  },
  {
   "cell_type": "code",
   "execution_count": 46,
   "id": "5ec7b7fe",
   "metadata": {},
   "outputs": [],
   "source": [
    "# filter the most popular tournaments and events\n",
    "filter_list = ['Friendly','FIFA World Cup','FIFA World Cup qualification','UEFA Euro','UEFA Euro qualification',\n",
    "               'African Cup of Nations','African Cup of Nations qualification']\n",
    "\n",
    "events = df[df.tournament.isin(filter_list)]"
   ]
  },
  {
   "cell_type": "code",
   "execution_count": 43,
   "id": "13053e57",
   "metadata": {},
   "outputs": [
    {
     "data": {
      "text/plain": [
       "Friendly                                17425\n",
       "FIFA World Cup qualification             7774\n",
       "UEFA Euro qualification                  2593\n",
       "African Cup of Nations qualification     1932\n",
       "FIFA World Cup                            900\n",
       "African Cup of Nations                    742\n",
       "UEFA Euro                                 337\n",
       "Name: tournament, dtype: int64"
      ]
     },
     "execution_count": 43,
     "metadata": {},
     "output_type": "execute_result"
    }
   ],
   "source": [
    "events['tournament'].value_counts()"
   ]
  },
  {
   "cell_type": "markdown",
   "id": "e59b97ca",
   "metadata": {},
   "source": [
    "## Tableau"
   ]
  },
  {
   "cell_type": "markdown",
   "id": "96a6db32",
   "metadata": {},
   "source": [
    "The cleaned and transformed dataset is now saved for further upload to Tableau for Analysis and Visualization.  \n",
    "\n"
   ]
  },
  {
   "cell_type": "code",
   "execution_count": 44,
   "id": "30fefed1",
   "metadata": {},
   "outputs": [],
   "source": [
    "#events.to_csv('events.csv')"
   ]
  },
  {
   "cell_type": "markdown",
   "id": "9c2b0a76",
   "metadata": {},
   "source": [
    "#### Tableau Dashboard"
   ]
  },
  {
   "cell_type": "code",
   "execution_count": 45,
   "id": "e8d2922d",
   "metadata": {},
   "outputs": [
    {
     "data": {
      "text/html": [
       "<div class='tableauPlaceholder' id='viz1670440417498' style='position: relative'><noscript><a href='#'><img alt='Dashboard 2 ' src='https:&#47;&#47;public.tableau.com&#47;static&#47;images&#47;So&#47;SoccerResults1963-2022&#47;Dashboard2&#47;1_rss.png' style='border: none' /></a></noscript><object class='tableauViz'  style='display:none;'><param name='host_url' value='https%3A%2F%2Fpublic.tableau.com%2F' /> <param name='embed_code_version' value='3' /> <param name='site_root' value='' /><param name='name' value='SoccerResults1963-2022&#47;Dashboard2' /><param name='tabs' value='no' /><param name='toolbar' value='yes' /><param name='static_image' value='https:&#47;&#47;public.tableau.com&#47;static&#47;images&#47;So&#47;SoccerResults1963-2022&#47;Dashboard2&#47;1.png' /> <param name='animate_transition' value='yes' /><param name='display_static_image' value='yes' /><param name='display_spinner' value='yes' /><param name='display_overlay' value='yes' /><param name='display_count' value='yes' /><param name='language' value='en-US' /></object></div>                <script type='text/javascript'>                    var divElement = document.getElementById('viz1670440417498');                    var vizElement = divElement.getElementsByTagName('object')[0];                    if ( divElement.offsetWidth > 800 ) { vizElement.style.width='1200px';vizElement.style.height='827px';} else if ( divElement.offsetWidth > 500 ) { vizElement.style.width='1200px';vizElement.style.height='827px';} else { vizElement.style.width='100%';vizElement.style.height='1777px';}                     var scriptElement = document.createElement('script');                    scriptElement.src = 'https://public.tableau.com/javascripts/api/viz_v1.js';                    vizElement.parentNode.insertBefore(scriptElement, vizElement);                </script>\n"
      ],
      "text/plain": [
       "<IPython.core.display.HTML object>"
      ]
     },
     "metadata": {},
     "output_type": "display_data"
    }
   ],
   "source": [
    "%%html\n",
    "<div class='tableauPlaceholder' id='viz1670440417498' style='position: relative'><noscript><a href='#'><img alt='Dashboard 2 ' src='https:&#47;&#47;public.tableau.com&#47;static&#47;images&#47;So&#47;SoccerResults1963-2022&#47;Dashboard2&#47;1_rss.png' style='border: none' /></a></noscript><object class='tableauViz'  style='display:none;'><param name='host_url' value='https%3A%2F%2Fpublic.tableau.com%2F' /> <param name='embed_code_version' value='3' /> <param name='site_root' value='' /><param name='name' value='SoccerResults1963-2022&#47;Dashboard2' /><param name='tabs' value='no' /><param name='toolbar' value='yes' /><param name='static_image' value='https:&#47;&#47;public.tableau.com&#47;static&#47;images&#47;So&#47;SoccerResults1963-2022&#47;Dashboard2&#47;1.png' /> <param name='animate_transition' value='yes' /><param name='display_static_image' value='yes' /><param name='display_spinner' value='yes' /><param name='display_overlay' value='yes' /><param name='display_count' value='yes' /><param name='language' value='en-US' /></object></div>                <script type='text/javascript'>                    var divElement = document.getElementById('viz1670440417498');                    var vizElement = divElement.getElementsByTagName('object')[0];                    if ( divElement.offsetWidth > 800 ) { vizElement.style.width='1200px';vizElement.style.height='827px';} else if ( divElement.offsetWidth > 500 ) { vizElement.style.width='1200px';vizElement.style.height='827px';} else { vizElement.style.width='100%';vizElement.style.height='1777px';}                     var scriptElement = document.createElement('script');                    scriptElement.src = 'https://public.tableau.com/javascripts/api/viz_v1.js';                    vizElement.parentNode.insertBefore(scriptElement, vizElement);                </script>"
   ]
  },
  {
   "cell_type": "markdown",
   "id": "f8a9fe9d",
   "metadata": {},
   "source": [
    "## Conclusion  \n",
    "* Nigeria has won a total of 131 home games and 68 away games.  \n",
    "* A total of 54 African Cup of Nations games, same as Ghana and only behind Egypt with 60 goals."
   ]
  },
  {
   "cell_type": "markdown",
   "id": "53aa2c3f",
   "metadata": {},
   "source": [
    "#### Notes:  \n",
    "This project does not account for the fact that tournaments are played on neutral grounds for most countries while still being listed as 'home teams' as there has to be a home team and an away team.  \n",
    "  \n",
    "  However, the ***Playground filter*** on the dashboard gives precise playing ground conditions for precise results."
   ]
  },
  {
   "cell_type": "code",
   "execution_count": null,
   "id": "c2b6faa5",
   "metadata": {},
   "outputs": [],
   "source": []
  }
 ],
 "metadata": {
  "kernelspec": {
   "display_name": "Python 3 (ipykernel)",
   "language": "python",
   "name": "python3"
  },
  "language_info": {
   "codemirror_mode": {
    "name": "ipython",
    "version": 3
   },
   "file_extension": ".py",
   "mimetype": "text/x-python",
   "name": "python",
   "nbconvert_exporter": "python",
   "pygments_lexer": "ipython3",
   "version": "3.9.7"
  }
 },
 "nbformat": 4,
 "nbformat_minor": 5
}
